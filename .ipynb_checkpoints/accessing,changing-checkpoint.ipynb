{
 "cells": [
  {
   "cell_type": "markdown",
   "id": "e9706f45-5088-4d39-83e8-2ed5ba5acbd1",
   "metadata": {},
   "source": [
    "## Basics"
   ]
  },
  {
   "cell_type": "code",
   "execution_count": 76,
   "id": "1a13f6b5-f3bc-47b9-b0ef-ee25e842520f",
   "metadata": {},
   "outputs": [],
   "source": [
    "#importing numpy as np\n",
    "import numpy as np"
   ]
  },
  {
   "cell_type": "code",
   "execution_count": 5,
   "id": "03b1a27e-294e-4b89-a09a-28c566a875d6",
   "metadata": {},
   "outputs": [
    {
     "name": "stdout",
     "output_type": "stream",
     "text": [
      "[[1 2 3 4]\n",
      " [5 6 7 8]]\n"
     ]
    }
   ],
   "source": [
    "a=np.array([[1,2,3,4],[5,6,7,8]])\n",
    "print(a)"
   ]
  },
  {
   "cell_type": "code",
   "execution_count": 6,
   "id": "8a57a987-e0db-4d17-ac0e-3dbd2685cf89",
   "metadata": {},
   "outputs": [
    {
     "data": {
      "text/plain": [
       "(2, 4)"
      ]
     },
     "execution_count": 6,
     "metadata": {},
     "output_type": "execute_result"
    }
   ],
   "source": [
    "a.shape"
   ]
  },
  {
   "cell_type": "code",
   "execution_count": 7,
   "id": "34b49e99-293d-42cd-b9cb-10e133da4194",
   "metadata": {},
   "outputs": [
    {
     "data": {
      "text/plain": [
       "6"
      ]
     },
     "execution_count": 7,
     "metadata": {},
     "output_type": "execute_result"
    }
   ],
   "source": [
    "a[1,-3]"
   ]
  },
  {
   "cell_type": "code",
   "execution_count": 8,
   "id": "cdfac1e0-4f7a-4dc8-bef6-98a226dfcdbb",
   "metadata": {},
   "outputs": [
    {
     "data": {
      "text/plain": [
       "array([1, 2, 3, 4])"
      ]
     },
     "execution_count": 8,
     "metadata": {},
     "output_type": "execute_result"
    }
   ],
   "source": [
    "#get specific\n",
    "a[0,:]"
   ]
  },
  {
   "cell_type": "code",
   "execution_count": 9,
   "id": "a8a2d89d-d47f-49ef-ac28-598ec60259f2",
   "metadata": {},
   "outputs": [
    {
     "data": {
      "text/plain": [
       "array([2, 6])"
      ]
     },
     "execution_count": 9,
     "metadata": {},
     "output_type": "execute_result"
    }
   ],
   "source": [
    "a[:,1]"
   ]
  },
  {
   "cell_type": "code",
   "execution_count": 10,
   "id": "8b1c2fad-4c07-408b-adb3-f7130a4bc92b",
   "metadata": {},
   "outputs": [
    {
     "data": {
      "text/plain": [
       "array([1, 4])"
      ]
     },
     "execution_count": 10,
     "metadata": {},
     "output_type": "execute_result"
    }
   ],
   "source": [
    "#getting a lil more fancy {strt,end,step}import numpy as np;\n",
    "#b = np.array([[[1, 3],[2, 5]],[[6, 7],[9, 9]]])print(b)\n",
    "\n",
    "a[0,0:7:3]"
   ]
  },
  {
   "cell_type": "code",
   "execution_count": 11,
   "id": "4c1be708-017f-45d3-8cbf-c15d9169842b",
   "metadata": {},
   "outputs": [
    {
     "name": "stdout",
     "output_type": "stream",
     "text": [
      "[[1 2 3 4]\n",
      " [5 6 5 8]]\n"
     ]
    }
   ],
   "source": [
    "a[:,2]=[3,5]\n",
    "print(a)"
   ]
  },
  {
   "cell_type": "code",
   "execution_count": 13,
   "id": "8b4ee589-a75c-42ae-aa71-ab8581f2cd85",
   "metadata": {},
   "outputs": [
    {
     "name": "stdout",
     "output_type": "stream",
     "text": [
      "Hello from NumPy!\n"
     ]
    }
   ],
   "source": [
    "import numpy as np\n",
    "\n",
    "print(\"Hello from NumPy!\")\n"
   ]
  },
  {
   "cell_type": "code",
   "execution_count": 14,
   "id": "190d9aef-ab7b-46f3-a9ad-fd1a5b96fba4",
   "metadata": {},
   "outputs": [
    {
     "name": "stdout",
     "output_type": "stream",
     "text": [
      "Array:\n",
      " [[[1 3]\n",
      "  [2 5]]\n",
      "\n",
      " [[6 7]\n",
      "  [9 9]]]\n",
      "Shape: (2, 2, 2)\n",
      "Data type: int32\n"
     ]
    }
   ],
   "source": [
    "import numpy as np\n",
    "\n",
    "b = np.array([[[1, 3], [2, 5]], [[6, 7], [9, 9]]])\n",
    "print(\"Array:\\n\", b)\n",
    "print(\"Shape:\", b.shape)\n",
    "print(\"Data type:\", b.dtype)\n"
   ]
  },
  {
   "cell_type": "code",
   "execution_count": 15,
   "id": "b74e454b-94f2-4800-842f-230978dad032",
   "metadata": {},
   "outputs": [
    {
     "name": "stdout",
     "output_type": "stream",
     "text": [
      "[[[1 3]\n",
      "  [2 5]]\n",
      "\n",
      " [[6 7]\n",
      "  [9 9]]]\n"
     ]
    }
   ],
   "source": [
    "import numpy as np\n",
    "\n",
    "b = np.array([[[1, 3], [2, 5]], [[6, 7], [9, 9]]])\n",
    "print(b)\n"
   ]
  },
  {
   "cell_type": "code",
   "execution_count": 16,
   "id": "df3a720e-efe3-4e5b-8945-da34eee5c26e",
   "metadata": {},
   "outputs": [
    {
     "data": {
      "text/plain": [
       "5"
      ]
     },
     "execution_count": 16,
     "metadata": {},
     "output_type": "execute_result"
    }
   ],
   "source": [
    "#get spcific ele (worl outside in)\n",
    "b[0,1,1]"
   ]
  },
  {
   "cell_type": "code",
   "execution_count": 17,
   "id": "aad7d45e-4d53-406b-a3d6-3f1230c38521",
   "metadata": {},
   "outputs": [
    {
     "data": {
      "text/plain": [
       "array([[2, 5],\n",
       "       [9, 9]])"
      ]
     },
     "execution_count": 17,
     "metadata": {},
     "output_type": "execute_result"
    }
   ],
   "source": [
    "b[:,1,:]"
   ]
  },
  {
   "cell_type": "code",
   "execution_count": 18,
   "id": "625c0b33-fc3b-4167-bfeb-3eecf5a0e871",
   "metadata": {},
   "outputs": [
    {
     "data": {
      "text/plain": [
       "array([[1, 3],\n",
       "       [6, 7]])"
      ]
     },
     "execution_count": 18,
     "metadata": {},
     "output_type": "execute_result"
    }
   ],
   "source": [
    "b[:,0,:]"
   ]
  },
  {
   "cell_type": "code",
   "execution_count": 19,
   "id": "ebd721b4-45b7-4677-9a45-c74729e6da4e",
   "metadata": {},
   "outputs": [
    {
     "name": "stdout",
     "output_type": "stream",
     "text": [
      "[[[2 3]\n",
      "  [2 5]]\n",
      "\n",
      " [[7 5]\n",
      "  [9 9]]]\n"
     ]
    }
   ],
   "source": [
    "#replace\n",
    "b[:,0,:]=[[2,3],[7,5]]\n",
    "print(b)"
   ]
  },
  {
   "cell_type": "markdown",
   "id": "94bf2a03-826c-4d51-89d7-c3d4d67e64c9",
   "metadata": {},
   "source": [
    "## INITIALIZING DIFFRENT TYPES OF ARRAY\n"
   ]
  },
  {
   "cell_type": "code",
   "execution_count": 21,
   "id": "1090e578-8de8-41e9-b26c-76780759f128",
   "metadata": {},
   "outputs": [
    {
     "data": {
      "text/plain": [
       "array([[0., 0., 0.],\n",
       "       [0., 0., 0.]])"
      ]
     },
     "execution_count": 21,
     "metadata": {},
     "output_type": "execute_result"
    }
   ],
   "source": [
    "#all 0s matrix\n",
    "np.zeros([2,3])"
   ]
  },
  {
   "cell_type": "code",
   "execution_count": 22,
   "id": "1a2b4487-6e86-40d4-9b8f-8ec2f9632f64",
   "metadata": {},
   "outputs": [
    {
     "data": {
      "text/plain": [
       "array([[[1., 1., 1.],\n",
       "        [1., 1., 1.]],\n",
       "\n",
       "       [[1., 1., 1.],\n",
       "        [1., 1., 1.]],\n",
       "\n",
       "       [[1., 1., 1.],\n",
       "        [1., 1., 1.]],\n",
       "\n",
       "       [[1., 1., 1.],\n",
       "        [1., 1., 1.]]])"
      ]
     },
     "execution_count": 22,
     "metadata": {},
     "output_type": "execute_result"
    }
   ],
   "source": [
    "np.ones((4,2,3))"
   ]
  },
  {
   "cell_type": "code",
   "execution_count": 23,
   "id": "0b9e32ce-9f19-4f9f-97da-40140b9e381e",
   "metadata": {},
   "outputs": [
    {
     "data": {
      "text/plain": [
       "array([[6, 6],\n",
       "       [6, 6]])"
      ]
     },
     "execution_count": 23,
     "metadata": {},
     "output_type": "execute_result"
    }
   ],
   "source": [
    "#any other number\n",
    "np.full((2,2),6)"
   ]
  },
  {
   "cell_type": "code",
   "execution_count": 24,
   "id": "9640a273-d3e7-4ce6-a281-79afe124e9ef",
   "metadata": {},
   "outputs": [
    {
     "data": {
      "text/plain": [
       "array([[[2, 2],\n",
       "        [2, 2]],\n",
       "\n",
       "       [[2, 2],\n",
       "        [2, 2]]])"
      ]
     },
     "execution_count": 24,
     "metadata": {},
     "output_type": "execute_result"
    }
   ],
   "source": [
    "#any other number(full_like)\n",
    "np.full_like(b,2)"
   ]
  },
  {
   "cell_type": "code",
   "execution_count": 25,
   "id": "41d203c6-0df0-475b-a6d0-4bbab0b39a76",
   "metadata": {},
   "outputs": [
    {
     "data": {
      "text/plain": [
       "array([[[0.32065724, 0.10309146, 0.38863453, 0.87211548],\n",
       "        [0.94863073, 0.02277077, 0.91925219, 0.55405526],\n",
       "        [0.84710648, 0.01780058, 0.13959668, 0.27605587],\n",
       "        [0.86476244, 0.85535491, 0.72805503, 0.31540389],\n",
       "        [0.31937414, 0.8681224 , 0.53097706, 0.17020933]],\n",
       "\n",
       "       [[0.89162797, 0.78965238, 0.01927658, 0.48729176],\n",
       "        [0.04558167, 0.6501429 , 0.97382553, 0.22027809],\n",
       "        [0.44062202, 0.43414973, 0.98143998, 0.75373856],\n",
       "        [0.14056074, 0.59933915, 0.68688674, 0.17344025],\n",
       "        [0.31929232, 0.71354358, 0.20023579, 0.3326252 ]]])"
      ]
     },
     "execution_count": 25,
     "metadata": {},
     "output_type": "execute_result"
    }
   ],
   "source": [
    "#random decimal number\n",
    "np.random.rand(2,5,4)"
   ]
  },
  {
   "cell_type": "code",
   "execution_count": 26,
   "id": "afb21e75-d7e4-466a-805e-f7e9c71fdfb2",
   "metadata": {},
   "outputs": [
    {
     "data": {
      "text/plain": [
       "array([[[0.19086794, 0.20529337],\n",
       "        [0.32710522, 0.65998703]],\n",
       "\n",
       "       [[0.43170243, 0.08732296],\n",
       "        [0.59100515, 0.41482519]]])"
      ]
     },
     "execution_count": 26,
     "metadata": {},
     "output_type": "execute_result"
    }
   ],
   "source": [
    "np.random.random_sample(b.shape)"
   ]
  },
  {
   "cell_type": "code",
   "execution_count": 27,
   "id": "26b6ea87-d434-456f-b89a-f87026724e6b",
   "metadata": {},
   "outputs": [
    {
     "data": {
      "text/plain": [
       "3"
      ]
     },
     "execution_count": 27,
     "metadata": {},
     "output_type": "execute_result"
    }
   ],
   "source": [
    "#random integer value\n",
    "np.random.randint(3,5)"
   ]
  },
  {
   "cell_type": "code",
   "execution_count": 28,
   "id": "54ef3c22-c5df-4166-99b9-ecf8d05a6f1d",
   "metadata": {},
   "outputs": [
    {
     "data": {
      "text/plain": [
       "array([[4, 4, 4],\n",
       "       [3, 3, 4],\n",
       "       [4, 3, 3]])"
      ]
     },
     "execution_count": 28,
     "metadata": {},
     "output_type": "execute_result"
    }
   ],
   "source": [
    "np.random.randint(3,5,size=(3,3))"
   ]
  },
  {
   "cell_type": "code",
   "execution_count": 29,
   "id": "442012ec-c9bd-4bd6-80ae-bbb79397fba7",
   "metadata": {},
   "outputs": [
    {
     "data": {
      "text/plain": [
       "array([[1., 0., 0., 0.],\n",
       "       [0., 1., 0., 0.],\n",
       "       [0., 0., 1., 0.],\n",
       "       [0., 0., 0., 1.]])"
      ]
     },
     "execution_count": 29,
     "metadata": {},
     "output_type": "execute_result"
    }
   ],
   "source": [
    "#identity\n",
    "np.identity(4)"
   ]
  },
  {
   "cell_type": "code",
   "execution_count": 30,
   "id": "d0dbfd9d-f60c-440e-8165-7d1fe07b4afb",
   "metadata": {},
   "outputs": [
    {
     "name": "stdout",
     "output_type": "stream",
     "text": [
      "[[1 2 3]\n",
      " [1 2 3]\n",
      " [1 2 3]]\n"
     ]
    }
   ],
   "source": [
    "arr=np.array([[1,2,3]])\n",
    "r1=np.repeat(arr,3,axis=0)\n",
    "print(r1)\n"
   ]
  },
  {
   "cell_type": "code",
   "execution_count": 31,
   "id": "53320bd7-44c8-4a09-9782-8423b4fe62d9",
   "metadata": {},
   "outputs": [
    {
     "name": "stdout",
     "output_type": "stream",
     "text": [
      "[[1. 1. 1. 1. 1.]\n",
      " [1. 1. 1. 1. 1.]\n",
      " [1. 1. 1. 1. 1.]\n",
      " [1. 1. 1. 1. 1.]\n",
      " [1. 1. 1. 1. 1.]]\n",
      "[[0. 0. 0.]\n",
      " [0. 9. 0.]\n",
      " [0. 0. 0.]]\n",
      "[[1. 1. 1. 1. 1.]\n",
      " [1. 0. 0. 0. 1.]\n",
      " [1. 0. 9. 0. 1.]\n",
      " [1. 0. 0. 0. 1.]\n",
      " [1. 1. 1. 1. 1.]]\n"
     ]
    }
   ],
   "source": [
    "import numpy as np\n",
    "c=np.ones([5,5])\n",
    "print(c)\n",
    "\n",
    "z=np.zeros((3,3))\n",
    "z[1,1]=9\n",
    "print(z)\n",
    "c[1:-1,1:4]=z\n",
    "print(c)"
   ]
  },
  {
   "cell_type": "markdown",
   "id": "f3e6278e-847f-481b-9331-9e927a46d566",
   "metadata": {},
   "source": [
    "\n"
   ]
  },
  {
   "cell_type": "code",
   "execution_count": 33,
   "id": "0d6ccdce-1e35-4781-9b58-8aae7b46230c",
   "metadata": {},
   "outputs": [
    {
     "name": "stdout",
     "output_type": "stream",
     "text": [
      "[3 4 5]\n"
     ]
    }
   ],
   "source": [
    "a=np.array([3,4,5])\n",
    "b=a.copy()\n",
    "b[0]=7\n",
    "print(a)"
   ]
  },
  {
   "cell_type": "markdown",
   "id": "b77ece35-47b8-44e9-9970-9f67fe550cf6",
   "metadata": {},
   "source": [
    "### Mathematics!!"
   ]
  },
  {
   "cell_type": "code",
   "execution_count": 35,
   "id": "16b13e01-d269-4ef6-b7ad-1597261a4e7a",
   "metadata": {},
   "outputs": [
    {
     "name": "stdout",
     "output_type": "stream",
     "text": [
      "[1 2 3 4]\n"
     ]
    }
   ],
   "source": [
    "a=np.array([1,2,3,4])\n",
    "print(a)"
   ]
  },
  {
   "cell_type": "code",
   "execution_count": 66,
   "id": "032190a3-fb79-47c8-b63f-29de7339a5eb",
   "metadata": {},
   "outputs": [
    {
     "data": {
      "text/plain": [
       "array([3, 4, 5, 6])"
      ]
     },
     "execution_count": 66,
     "metadata": {},
     "output_type": "execute_result"
    }
   ],
   "source": [
    "a+2\n"
   ]
  },
  {
   "cell_type": "code",
   "execution_count": 68,
   "id": "e146e68c-a13b-4dda-87c5-84c867d0ef9b",
   "metadata": {},
   "outputs": [
    {
     "data": {
      "text/plain": [
       "array([0, 1, 2, 3])"
      ]
     },
     "execution_count": 68,
     "metadata": {},
     "output_type": "execute_result"
    }
   ],
   "source": [
    "a-1"
   ]
  },
  {
   "cell_type": "code",
   "execution_count": 70,
   "id": "0c433216-5e34-4343-b1d9-795240e6a6e6",
   "metadata": {},
   "outputs": [
    {
     "data": {
      "text/plain": [
       "array([ 6, 12, 18, 24])"
      ]
     },
     "execution_count": 70,
     "metadata": {},
     "output_type": "execute_result"
    }
   ],
   "source": [
    "a*6"
   ]
  },
  {
   "cell_type": "code",
   "execution_count": 72,
   "id": "06b176e8-e912-42d9-a0c7-ba198586837b",
   "metadata": {},
   "outputs": [
    {
     "data": {
      "text/plain": [
       "array([0.5, 1. , 1.5, 2. ])"
      ]
     },
     "execution_count": 72,
     "metadata": {},
     "output_type": "execute_result"
    }
   ],
   "source": [
    "a/2"
   ]
  },
  {
   "cell_type": "code",
   "execution_count": 81,
   "id": "4435c13e-a8a2-4346-a807-60e24cf24c20",
   "metadata": {},
   "outputs": [
    {
     "data": {
      "text/plain": [
       "array([3, 5, 8, 9])"
      ]
     },
     "execution_count": 81,
     "metadata": {},
     "output_type": "execute_result"
    }
   ],
   "source": [
    "b=np.array([2,3,5,5])\n",
    "a+b"
   ]
  },
  {
   "cell_type": "code",
   "execution_count": 87,
   "id": "24129e94-69fd-4e25-bc3a-ec97b1abf874",
   "metadata": {},
   "outputs": [
    {
     "name": "stdout",
     "output_type": "stream",
     "text": [
      "[ 0.84147098  0.90929743  0.14112001 -0.7568025 ]\n",
      "[-0.41614684 -0.9899925   0.28366219  0.28366219]\n"
     ]
    }
   ],
   "source": [
    "# sin\n",
    "c=np.sin(a)\n",
    "d=np.cos(b)\n",
    "print(c)\n",
    "print(d)"
   ]
  },
  {
   "cell_type": "markdown",
   "id": "e11eac75-635f-41d8-b920-d9eb575f8bca",
   "metadata": {},
   "source": [
    "## linear Algebra"
   ]
  },
  {
   "cell_type": "code",
   "execution_count": 100,
   "id": "0b2205a6-9f30-4cac-a0c6-cdbd6d42bb19",
   "metadata": {},
   "outputs": [
    {
     "name": "stdout",
     "output_type": "stream",
     "text": [
      "[[1. 1. 1.]\n",
      " [1. 1. 1.]]\n",
      "[[2 2]\n",
      " [2 2]\n",
      " [2 2]]\n"
     ]
    },
    {
     "data": {
      "text/plain": [
       "array([[6., 6.],\n",
       "       [6., 6.]])"
      ]
     },
     "execution_count": 100,
     "metadata": {},
     "output_type": "execute_result"
    }
   ],
   "source": [
    "a=np.ones((2,3))\n",
    "print(a)\n",
    "\n",
    "b=np.full((3,2),2)\n",
    "print (b)\n",
    "\n",
    "# doing i.e mul a*b will give error cause diff dim to resolve we do\n",
    "np.matmul(a,b)"
   ]
  },
  {
   "cell_type": "code",
   "execution_count": 102,
   "id": "4be1c1da-504e-4e15-b0f3-ed69d9defa81",
   "metadata": {},
   "outputs": [
    {
     "data": {
      "text/plain": [
       "1.0"
      ]
     },
     "execution_count": 102,
     "metadata": {},
     "output_type": "execute_result"
    }
   ],
   "source": [
    "# to find det\n",
    "c=np.identity(3)\n",
    "np.linalg.det(c)"
   ]
  },
  {
   "cell_type": "markdown",
   "id": "4f0d19ea-c0ed-4b95-9d04-a6761ddff6c4",
   "metadata": {},
   "source": [
    "## Statistics"
   ]
  },
  {
   "cell_type": "code",
   "execution_count": 105,
   "id": "82bcf9b2-17b7-493e-87c3-04e9a42fc3d1",
   "metadata": {},
   "outputs": [
    {
     "data": {
      "text/plain": [
       "array([[1, 3, 4],\n",
       "       [5, 6, 3]])"
      ]
     },
     "execution_count": 105,
     "metadata": {},
     "output_type": "execute_result"
    }
   ],
   "source": [
    "stats=np.array([[1,3,4],[5,6,3]])\n",
    "stats"
   ]
  },
  {
   "cell_type": "code",
   "execution_count": 107,
   "id": "a8feed31-87a2-4e86-ab2d-ab28a036d594",
   "metadata": {},
   "outputs": [
    {
     "data": {
      "text/plain": [
       "1"
      ]
     },
     "execution_count": 107,
     "metadata": {},
     "output_type": "execute_result"
    }
   ],
   "source": [
    "np.min(stats)"
   ]
  },
  {
   "cell_type": "code",
   "execution_count": 111,
   "id": "117e4380-528e-4515-a9d5-b3fd824f5a76",
   "metadata": {},
   "outputs": [
    {
     "data": {
      "text/plain": [
       "6"
      ]
     },
     "execution_count": 111,
     "metadata": {},
     "output_type": "execute_result"
    }
   ],
   "source": [
    "np.max(stats)"
   ]
  },
  {
   "cell_type": "code",
   "execution_count": 115,
   "id": "80632532-729b-40d6-b037-b3c54f9875ae",
   "metadata": {},
   "outputs": [
    {
     "data": {
      "text/plain": [
       "array([1, 3, 3])"
      ]
     },
     "execution_count": 115,
     "metadata": {},
     "output_type": "execute_result"
    }
   ],
   "source": [
    "np.min(stats,axis=0)"
   ]
  },
  {
   "cell_type": "code",
   "execution_count": 123,
   "id": "61e41d6b-2d48-4342-ba6c-dfaffd140961",
   "metadata": {},
   "outputs": [
    {
     "data": {
      "text/plain": [
       "array([ 8, 14])"
      ]
     },
     "execution_count": 123,
     "metadata": {},
     "output_type": "execute_result"
    }
   ],
   "source": [
    "np.sum(stats,axis=1)"
   ]
  },
  {
   "cell_type": "markdown",
   "id": "1280ddb8-f4ac-47ba-81b2-71cdb83f39f9",
   "metadata": {},
   "source": [
    "## Reorganizing Array"
   ]
  },
  {
   "cell_type": "code",
   "execution_count": 126,
   "id": "85a90599-aa5a-4644-8648-6e7ffca2483f",
   "metadata": {},
   "outputs": [
    {
     "name": "stdout",
     "output_type": "stream",
     "text": [
      "[[5 4 6 2]\n",
      " [7 5 3 2]]\n"
     ]
    }
   ],
   "source": [
    "before=np.array([[5,4,6,2],[7,5,3,2]])\n",
    "print(before)"
   ]
  },
  {
   "cell_type": "code",
   "execution_count": 128,
   "id": "ef40d91a-4acf-4bac-bda1-5b346b4d1d47",
   "metadata": {},
   "outputs": [
    {
     "name": "stdout",
     "output_type": "stream",
     "text": [
      "(2, 4)\n"
     ]
    }
   ],
   "source": [
    "before=np.array([[5,4,6,2],[7,5,3,2]])\n",
    "print(before.shape)"
   ]
  },
  {
   "cell_type": "code",
   "execution_count": 144,
   "id": "2b7b7d77-5a92-40c8-8c93-d7f467dd1a46",
   "metadata": {},
   "outputs": [
    {
     "name": "stdout",
     "output_type": "stream",
     "text": [
      "(2, 4)\n",
      "[[5]\n",
      " [4]\n",
      " [6]\n",
      " [2]\n",
      " [7]\n",
      " [5]\n",
      " [3]\n",
      " [2]]\n"
     ]
    }
   ],
   "source": [
    "before=np.array([[5,4,6,2],[7,5,3,2]])\n",
    "print(before.shape)\n",
    "after=before.reshape((8,1))\n",
    "print(after)"
   ]
  },
  {
   "cell_type": "code",
   "execution_count": 146,
   "id": "78e6d96a-06ff-4cc1-8bd9-22190d3f5bb6",
   "metadata": {},
   "outputs": [
    {
     "name": "stdout",
     "output_type": "stream",
     "text": [
      "(2, 4)\n",
      "[[[5 4]\n",
      "  [6 2]]\n",
      "\n",
      " [[7 5]\n",
      "  [3 2]]]\n"
     ]
    }
   ],
   "source": [
    "before=np.array([[5,4,6,2],[7,5,3,2]])\n",
    "print(before.shape)\n",
    "after=before.reshape((2,2,2))\n",
    "print(after)"
   ]
  },
  {
   "cell_type": "code",
   "execution_count": 152,
   "id": "a1599d1b-df0b-4a1e-a64c-c9460c813cd9",
   "metadata": {},
   "outputs": [
    {
     "data": {
      "text/plain": [
       "array([[5, 4, 6, 2],\n",
       "       [7, 5, 3, 2]])"
      ]
     },
     "execution_count": 152,
     "metadata": {},
     "output_type": "execute_result"
    }
   ],
   "source": [
    "# vertically stacking vectors\n",
    "v1=np.array([5,4,6,2])\n",
    "v2=np.array([7,5,3,2])\n",
    "np.vstack([v1,v2])"
   ]
  },
  {
   "cell_type": "code",
   "execution_count": 156,
   "id": "8e406bdf-8b7c-4ab8-a383-5db8e7155277",
   "metadata": {},
   "outputs": [
    {
     "data": {
      "text/plain": [
       "array([[5, 4, 6, 2],\n",
       "       [7, 5, 3, 2],\n",
       "       [5, 4, 6, 2],\n",
       "       [7, 5, 3, 2]])"
      ]
     },
     "execution_count": 156,
     "metadata": {},
     "output_type": "execute_result"
    }
   ],
   "source": [
    "v1=np.array([5,4,6,2])\n",
    "v2=np.array([7,5,3,2])\n",
    "np.vstack([v1,v2,v1,v2])"
   ]
  },
  {
   "cell_type": "code",
   "execution_count": 168,
   "id": "a0c8720f-aed4-49c2-b331-addc638046ce",
   "metadata": {},
   "outputs": [
    {
     "data": {
      "text/plain": [
       "array([[1., 1., 1., 0., 0.],\n",
       "       [1., 1., 1., 0., 0.]])"
      ]
     },
     "execution_count": 168,
     "metadata": {},
     "output_type": "execute_result"
    }
   ],
   "source": [
    "# horizontal Stack\n",
    "h1=np.ones((2,3))\n",
    "h2=np.zeros((2,2))\n",
    "np.hstack([h1,h2])"
   ]
  },
  {
   "cell_type": "code",
   "execution_count": null,
   "id": "f3b9deee-6470-4c5a-a9c8-b4e2a856c1a2",
   "metadata": {},
   "outputs": [],
   "source": []
  }
 ],
 "metadata": {
  "kernelspec": {
   "display_name": "Python 3 (Data Science)",
   "language": "python",
   "name": "data_env"
  },
  "language_info": {
   "codemirror_mode": {
    "name": "ipython",
    "version": 3
   },
   "file_extension": ".py",
   "mimetype": "text/x-python",
   "name": "python",
   "nbconvert_exporter": "python",
   "pygments_lexer": "ipython3",
   "version": "3.12.7"
  }
 },
 "nbformat": 4,
 "nbformat_minor": 5
}
