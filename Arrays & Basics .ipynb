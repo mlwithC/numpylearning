{
 "cells": [
  {
   "cell_type": "markdown",
   "id": "327768dd-f901-44b9-8c53-a14399522e72",
   "metadata": {},
   "source": [
    "## 1. Arrays & Basics (Creation, Shapes, Indexing, Slicing)"
   ]
  },
  {
   "cell_type": "markdown",
   "id": "76ec7046-b2cd-44bd-ad2a-4da086480164",
   "metadata": {},
   "source": [
    "## Basic"
   ]
  },
  {
   "cell_type": "code",
   "execution_count": 4,
   "id": "f7931873-e227-4e1e-b21e-134bf036d3fa",
   "metadata": {},
   "outputs": [],
   "source": [
    "# Problem 1: Create a 1D, 2D, and 3D NumPy array. Print the arrays and their shapes"
   ]
  },
  {
   "cell_type": "code",
   "execution_count": 5,
   "id": "3c4cbe32-fd38-4b13-b16a-f92e3d9fa9d9",
   "metadata": {},
   "outputs": [],
   "source": [
    "import numpy as np"
   ]
  },
  {
   "cell_type": "code",
   "execution_count": 6,
   "id": "61dee2ab-32d6-4760-9476-454758ba5abf",
   "metadata": {},
   "outputs": [
    {
     "name": "stdout",
     "output_type": "stream",
     "text": [
      "[1 2 3 4]\n",
      "(4,)\n"
     ]
    }
   ],
   "source": [
    "a=np.array([1,2,3,4])\n",
    "print(a)\n",
    "print(a.shape)"
   ]
  },
  {
   "cell_type": "code",
   "execution_count": 7,
   "id": "2664a80b-30bd-4ced-a5d2-8ed620531971",
   "metadata": {},
   "outputs": [
    {
     "name": "stdout",
     "output_type": "stream",
     "text": [
      "[[1 2 3 4]\n",
      " [6 5 4 3]]\n",
      "(2, 4)\n"
     ]
    }
   ],
   "source": [
    "b=np.array([[1,2,3,4],[6,5,4,3]])\n",
    "print(b)\n",
    "print(b.shape)"
   ]
  },
  {
   "cell_type": "code",
   "execution_count": 8,
   "id": "69949af7-305b-48dd-b85b-62c3005651af",
   "metadata": {},
   "outputs": [
    {
     "name": "stdout",
     "output_type": "stream",
     "text": [
      "[[[1 2 3 4]\n",
      "  [6 5 4 3]]\n",
      "\n",
      " [[1 2 3 4]\n",
      "  [6 5 4 3]]]\n",
      "(2, 2, 4)\n"
     ]
    }
   ],
   "source": [
    "c=np.array([\n",
    "    [[1,2,3,4],[6,5,4,3]],\n",
    "    [[1,2,3,4],[6,5,4,3]]\n",
    "           \n",
    "])\n",
    "print(c)\n",
    "print(c.shape)"
   ]
  },
  {
   "cell_type": "code",
   "execution_count": 9,
   "id": "402c592b-b12e-4915-82de-a829c7796705",
   "metadata": {},
   "outputs": [],
   "source": [
    "#•\tCreate an array of numbers from 0 to 20 with step size 2."
   ]
  },
  {
   "cell_type": "code",
   "execution_count": 10,
   "id": "e4d1fab6-8f7a-412c-8d2c-84d23ef5e2b9",
   "metadata": {},
   "outputs": [
    {
     "name": "stdout",
     "output_type": "stream",
     "text": [
      "[ 0  2  4  6  8 10 12 14 16 18 20]\n"
     ]
    }
   ],
   "source": [
    "a=np.arange(0,21,2)\n",
    "print(a)"
   ]
  },
  {
   "cell_type": "code",
   "execution_count": 11,
   "id": "0faf5877-253f-400b-b676-f5a392eda863",
   "metadata": {},
   "outputs": [],
   "source": [
    "#•\tSlice the above array to get only even numbers."
   ]
  },
  {
   "cell_type": "code",
   "execution_count": 12,
   "id": "5db49702-ec35-4a50-b7ca-4ae57bdd0568",
   "metadata": {},
   "outputs": [
    {
     "name": "stdout",
     "output_type": "stream",
     "text": [
      "[ 0  2  4  6  8 10 12 14 16 18 20]\n"
     ]
    }
   ],
   "source": [
    "a=np.arange(0,21)\n",
    "print(a[::2])"
   ]
  },
  {
   "cell_type": "code",
   "execution_count": 13,
   "id": "cefe4dee-ea50-4adf-ace3-e0a227a130cd",
   "metadata": {},
   "outputs": [],
   "source": [
    "#•\tCreate a 3x3 matrix and extract the 2nd row and 3rd column."
   ]
  },
  {
   "cell_type": "code",
   "execution_count": 14,
   "id": "f70fbf57-8c27-4126-900c-a6a82eece164",
   "metadata": {},
   "outputs": [
    {
     "name": "stdout",
     "output_type": "stream",
     "text": [
      "(3, 3)\n",
      "2nd row: [6 5 4]\n",
      "3rd cols: [3 4 3]\n"
     ]
    }
   ],
   "source": [
    "c = np.array([\n",
    "    [1, 2, 3], \n",
    "    [6, 5, 4], \n",
    "    [1, 2, 3]\n",
    "])\n",
    "\n",
    "print(c.shape)\n",
    "\n",
    "print(\"2nd row:\", c[1, :])\n",
    "print(\"3rd cols:\", c[:,2])\n",
    "\n",
    "\n"
   ]
  },
  {
   "cell_type": "markdown",
   "id": "2df87d2d-aef5-4a95-b9f5-ead8dcd4da80",
   "metadata": {},
   "source": [
    "## Intermediate!"
   ]
  },
  {
   "cell_type": "code",
   "execution_count": 33,
   "id": "d4694265-501d-4c6f-bd05-4cc4694b3ad0",
   "metadata": {},
   "outputs": [],
   "source": [
    "#•\tCreate a 5x5 identity matrix."
   ]
  },
  {
   "cell_type": "code",
   "execution_count": 53,
   "id": "677cafdd-c546-456f-b904-fe645f4b5212",
   "metadata": {},
   "outputs": [
    {
     "name": "stdout",
     "output_type": "stream",
     "text": [
      "[[1. 0. 0. 0. 0.]\n",
      " [0. 1. 0. 0. 0.]\n",
      " [0. 0. 1. 0. 0.]\n",
      " [0. 0. 0. 1. 0.]\n",
      " [0. 0. 0. 0. 1.]]\n",
      "(5, 5)\n"
     ]
    }
   ],
   "source": [
    "a=np.identity(5)\n",
    "print(a)\n",
    "print(a.shape)"
   ]
  },
  {
   "cell_type": "code",
   "execution_count": 55,
   "id": "21d096e7-024f-463e-bc41-afdaad65addf",
   "metadata": {},
   "outputs": [],
   "source": [
    "#•\tReshape an array of 25 numbers into a 5x5 matrix."
   ]
  },
  {
   "cell_type": "code",
   "execution_count": 63,
   "id": "22944a41-20ac-4759-93f9-41abbc145810",
   "metadata": {},
   "outputs": [
    {
     "name": "stdout",
     "output_type": "stream",
     "text": [
      "[[ 0  1  2  3  4]\n",
      " [ 5  6  7  8  9]\n",
      " [10 11 12 13 14]\n",
      " [15 16 17 18 19]\n",
      " [20 21 22 23 24]]\n",
      "(5, 5)\n"
     ]
    }
   ],
   "source": [
    "a=np.arange(25).reshape(5,5)\n",
    "print(a)\n",
    "print(a.shape)"
   ]
  },
  {
   "cell_type": "code",
   "execution_count": 65,
   "id": "e41c07b5-6720-443d-acd0-2e183193921e",
   "metadata": {},
   "outputs": [],
   "source": [
    "#•\tReverse an array without using loops."
   ]
  },
  {
   "cell_type": "code",
   "execution_count": 67,
   "id": "32d06158-4735-424f-814e-4dee8c710f50",
   "metadata": {},
   "outputs": [
    {
     "name": "stdout",
     "output_type": "stream",
     "text": [
      "[5 4 3 2 4 1]\n"
     ]
    }
   ],
   "source": [
    "a=np.array([1,4,2,3,4,5])\n",
    "print(a[::-1])"
   ]
  },
  {
   "cell_type": "markdown",
   "id": "4a4b5b93-93c2-4aef-8aa1-fe7982121a68",
   "metadata": {},
   "source": [
    "## Advanced!"
   ]
  },
  {
   "cell_type": "code",
   "execution_count": 70,
   "id": "375a8af0-38e8-415e-a2cc-4b49c1ea3ae6",
   "metadata": {},
   "outputs": [],
   "source": [
    "#•\tGiven a 6x6 matrix, extract the inner 4x4 submatrix"
   ]
  },
  {
   "cell_type": "code",
   "execution_count": 78,
   "id": "2391e299-db63-4376-9775-c562fc542324",
   "metadata": {},
   "outputs": [
    {
     "name": "stdout",
     "output_type": "stream",
     "text": [
      "[[ 0  1  2  3  4  5]\n",
      " [ 6  7  8  9 10 11]\n",
      " [12 13 14 15 16 17]\n",
      " [18 19 20 21 22 23]\n",
      " [24 25 26 27 28 29]\n",
      " [30 31 32 33 34 35]]\n",
      "(6, 6)\n",
      "[[ 7  8  9 10]\n",
      " [13 14 15 16]\n",
      " [19 20 21 22]\n",
      " [25 26 27 28]]\n",
      "(4, 4)\n"
     ]
    }
   ],
   "source": [
    "a=np.arange(36).reshape(6,6)\n",
    "print(a)\n",
    "print(a.shape)\n",
    "inner = a[1:5, 1:5]\n",
    "print( inner)\n",
    "print( inner.shape)"
   ]
  },
  {
   "cell_type": "code",
   "execution_count": 80,
   "id": "d236d4e5-bd80-43ac-8249-e0b827869325",
   "metadata": {},
   "outputs": [],
   "source": [
    "#•\tWrite code to flatten any n-dimensional array into 1D."
   ]
  },
  {
   "cell_type": "code",
   "execution_count": 84,
   "id": "3e55980e-545b-49a1-96c0-2d98164aa197",
   "metadata": {},
   "outputs": [
    {
     "name": "stdout",
     "output_type": "stream",
     "text": [
      "[[0 1 2]\n",
      " [3 4 5]\n",
      " [6 7 8]]\n",
      "(3, 3)\n",
      "[0 1 2 3 4 5 6 7 8]\n"
     ]
    }
   ],
   "source": [
    "a=np.arange(9).reshape(3,3)\n",
    "print(a)\n",
    "print(a.shape)\n",
    "b=a.flatten()\n",
    "print(b)\n"
   ]
  },
  {
   "cell_type": "markdown",
   "id": "09347101-a659-4385-b42e-18b9b585cc37",
   "metadata": {},
   "source": [
    "## 2. Array Operations (Math, Broadcasting, Aggregations)"
   ]
  },
  {
   "cell_type": "markdown",
   "id": "5daebd9c-bf7d-47bc-88ed-50074753c3fb",
   "metadata": {},
   "source": [
    "## Basic"
   ]
  },
  {
   "cell_type": "code",
   "execution_count": null,
   "id": "7d47830f-a754-41bb-ab3b-0323968a07c5",
   "metadata": {},
   "outputs": [],
   "source": [
    "#• Perform element-wise addition, subtraction, multiplication, division on two arrays."
   ]
  },
  {
   "cell_type": "code",
   "execution_count": 89,
   "id": "a2d0ef45-5c58-43c9-afae-428c706e7d91",
   "metadata": {},
   "outputs": [
    {
     "name": "stdout",
     "output_type": "stream",
     "text": [
      "[1 2 3 4]\n",
      "[5 6 7 8]\n",
      "Add [ 6  8 10 12]\n",
      "Sub [-4 -4 -4 -4]\n",
      "Multi [ 5 12 21 32]\n",
      "Divi [0.2        0.33333333 0.42857143 0.5       ]\n"
     ]
    }
   ],
   "source": [
    "a = np.array([1, 2, 3, 4])\n",
    "b = np.array([5, 6, 7, 8])\n",
    "\n",
    "print(a)\n",
    "print(b)\n",
    "\n",
    "print(\"Add\", a + b)          \n",
    "print(\"Sub\", a - b)        \n",
    "print(\"Multi\", a * b)     \n",
    "print(\"Divi\", a / b)           "
   ]
  },
  {
   "cell_type": "code",
   "execution_count": 91,
   "id": "62eb5688-6d91-43bb-83db-5f6abf1ae418",
   "metadata": {},
   "outputs": [],
   "source": [
    "#•\tCalculate mean, median, variance, and standard deviation of an array."
   ]
  },
  {
   "cell_type": "code",
   "execution_count": 93,
   "id": "cbcfa526-5629-465a-964f-95277a9b360e",
   "metadata": {},
   "outputs": [
    {
     "name": "stdout",
     "output_type": "stream",
     "text": [
      "[1 2 3 4 5 6 7 8 9]\n",
      "mean: 5.0\n",
      "med 5.0\n",
      "var 6.666666666666667\n",
      "std dev 2.581988897471611\n"
     ]
    }
   ],
   "source": [
    "a = np.array([1, 2, 3, 4, 5, 6, 7, 8, 9])\n",
    "\n",
    "print(a)\n",
    "\n",
    "print(\"mean:\", np.mean(a))          \n",
    "print(\"med\", np.median(a))      \n",
    "print(\"var\", np.var(a))       \n",
    "print(\"std dev\", np.std(a))  \n"
   ]
  },
  {
   "cell_type": "markdown",
   "id": "e0725915-39b8-475c-b41b-21850a963db3",
   "metadata": {},
   "source": [
    "## Intermediate"
   ]
  },
  {
   "cell_type": "code",
   "execution_count": 98,
   "id": "4bac4782-9689-4820-8ee7-1096791694c5",
   "metadata": {},
   "outputs": [],
   "source": [
    "# •\tGiven two arrays of shapes (3,1) and (1,3), perform broadcasting addition."
   ]
  },
  {
   "cell_type": "code",
   "execution_count": 108,
   "id": "6b9af80f-4671-423c-9b9f-3262f3e454ea",
   "metadata": {},
   "outputs": [
    {
     "name": "stdout",
     "output_type": "stream",
     "text": [
      "a shape: (3, 1)\n",
      "b shape: (1, 3)\n",
      "broadcasting addition:\n",
      "[[11 21 31]\n",
      " [12 22 32]\n",
      " [13 23 33]]\n",
      "Shape of result: (3, 3)\n"
     ]
    }
   ],
   "source": [
    "a = np.array([[1], \n",
    "              [2], \n",
    "              [3]])   \n",
    "\n",
    "b = np.array([[10, 20, 30]])  \n",
    "\n",
    "print(\"a shape:\", a.shape)\n",
    "print(\"b shape:\", b.shape)\n",
    "\n",
    "c = a + b\n",
    "\n",
    "print(\"broadcasting addition:\")\n",
    "print(c)\n",
    "print(\"Shape of result:\", c.shape)\n"
   ]
  },
  {
   "cell_type": "code",
   "execution_count": null,
   "id": "9ccd8365-fb8b-42a0-9283-4c4251c94f51",
   "metadata": {},
   "outputs": [],
   "source": [
    "# •\tNormalize an array (scale values between 0 and 1)."
   ]
  },
  {
   "cell_type": "code",
   "execution_count": 110,
   "id": "b0b2b043-ef95-46cc-a564-4fee8efd60e6",
   "metadata": {},
   "outputs": [
    {
     "name": "stdout",
     "output_type": "stream",
     "text": [
      "original array: [10 20 30 40 50]\n",
      "normalized array: [0.   0.25 0.5  0.75 1.  ]\n"
     ]
    }
   ],
   "source": [
    "arr = np.array([10, 20, 30, 40, 50])\n",
    "\n",
    "norm_arr = (arr - np.min(arr)) / (np.max(arr) - np.min(arr))\n",
    "\n",
    "print(\"original array:\", arr)\n",
    "print(\"normalized array:\", norm_arr)\n"
   ]
  },
  {
   "cell_type": "markdown",
   "id": "59a6d5a9-9567-4b7a-8d43-f376842ea4f8",
   "metadata": {},
   "source": [
    "## Advanced"
   ]
  },
  {
   "cell_type": "code",
   "execution_count": 113,
   "id": "d092924f-9eb1-49c0-a94d-a57fac0c322f",
   "metadata": {},
   "outputs": [],
   "source": [
    "# •\tImplement z-score normalization manually using NumPy."
   ]
  },
  {
   "cell_type": "code",
   "execution_count": 115,
   "id": "73723802-5463-43d7-bf21-2782d302a761",
   "metadata": {},
   "outputs": [
    {
     "name": "stdout",
     "output_type": "stream",
     "text": [
      "original array: [10 20 30 40 50]\n",
      "mean: 30.0\n",
      "std dev: 14.142135623730951\n",
      "z-score normalized array: [-1.41421356 -0.70710678  0.          0.70710678  1.41421356]\n"
     ]
    }
   ],
   "source": [
    "arr = np.array([10, 20, 30, 40, 50])\n",
    "\n",
    "mean = np.mean(arr)\n",
    "\n",
    "std = np.std(arr)\n",
    "\n",
    "z_score_normalized = (arr - mean) / std\n",
    "\n",
    "print(\"original array:\", arr)\n",
    "print(\"mean:\", mean)\n",
    "print(\"std dev:\", std)\n",
    "print(\"z-score normalized array:\", z_score_normalized)\n"
   ]
  },
  {
   "cell_type": "code",
   "execution_count": 117,
   "id": "62554c91-d036-4310-aa5d-dd1895e26b8f",
   "metadata": {},
   "outputs": [],
   "source": [
    "#•\tCompute pairwise Euclidean distance between rows of a 2D array."
   ]
  },
  {
   "cell_type": "code",
   "execution_count": null,
   "id": "e0261666-c37b-4663-959d-76f06f7a1d3e",
   "metadata": {},
   "outputs": [],
   "source": []
  }
 ],
 "metadata": {
  "kernelspec": {
   "display_name": "Python (tf_env)",
   "language": "python",
   "name": "tf_env"
  },
  "language_info": {
   "codemirror_mode": {
    "name": "ipython",
    "version": 3
   },
   "file_extension": ".py",
   "mimetype": "text/x-python",
   "name": "python",
   "nbconvert_exporter": "python",
   "pygments_lexer": "ipython3",
   "version": "3.10.18"
  }
 },
 "nbformat": 4,
 "nbformat_minor": 5
}
