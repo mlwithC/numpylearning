{
 "cells": [
  {
   "cell_type": "markdown",
   "id": "76ec7046-b2cd-44bd-ad2a-4da086480164",
   "metadata": {},
   "source": [
    "## Basic"
   ]
  },
  {
   "cell_type": "code",
   "execution_count": 2,
   "id": "f7931873-e227-4e1e-b21e-134bf036d3fa",
   "metadata": {},
   "outputs": [],
   "source": [
    "# Problem 1: Create a 1D, 2D, and 3D NumPy array. Print the arrays and their shapes"
   ]
  },
  {
   "cell_type": "code",
   "execution_count": 4,
   "id": "3c4cbe32-fd38-4b13-b16a-f92e3d9fa9d9",
   "metadata": {},
   "outputs": [],
   "source": [
    "import numpy as np"
   ]
  },
  {
   "cell_type": "code",
   "execution_count": 12,
   "id": "61dee2ab-32d6-4760-9476-454758ba5abf",
   "metadata": {},
   "outputs": [
    {
     "name": "stdout",
     "output_type": "stream",
     "text": [
      "[1 2 3 4]\n",
      "(4,)\n"
     ]
    }
   ],
   "source": [
    "a=np.array([1,2,3,4])\n",
    "print(a)\n",
    "print(a.shape)"
   ]
  },
  {
   "cell_type": "code",
   "execution_count": 14,
   "id": "2664a80b-30bd-4ced-a5d2-8ed620531971",
   "metadata": {},
   "outputs": [
    {
     "name": "stdout",
     "output_type": "stream",
     "text": [
      "[[1 2 3 4]\n",
      " [6 5 4 3]]\n",
      "(2, 4)\n"
     ]
    }
   ],
   "source": [
    "b=np.array([[1,2,3,4],[6,5,4,3]])\n",
    "print(b)\n",
    "print(b.shape)"
   ]
  },
  {
   "cell_type": "code",
   "execution_count": 24,
   "id": "69949af7-305b-48dd-b85b-62c3005651af",
   "metadata": {},
   "outputs": [
    {
     "name": "stdout",
     "output_type": "stream",
     "text": [
      "[[[1 2 3 4]\n",
      "  [6 5 4 3]]\n",
      "\n",
      " [[1 2 3 4]\n",
      "  [6 5 4 3]]]\n",
      "(2, 2, 4)\n"
     ]
    }
   ],
   "source": [
    "c=np.array([\n",
    "    [[1,2,3,4],[6,5,4,3]],\n",
    "    [[1,2,3,4],[6,5,4,3]]\n",
    "           \n",
    "])\n",
    "print(c)\n",
    "print(c.shape)"
   ]
  },
  {
   "cell_type": "code",
   "execution_count": 26,
   "id": "402c592b-b12e-4915-82de-a829c7796705",
   "metadata": {},
   "outputs": [],
   "source": [
    "#•\tCreate an array of numbers from 0 to 20 with step size 2."
   ]
  },
  {
   "cell_type": "code",
   "execution_count": 32,
   "id": "e4d1fab6-8f7a-412c-8d2c-84d23ef5e2b9",
   "metadata": {},
   "outputs": [
    {
     "name": "stdout",
     "output_type": "stream",
     "text": [
      "[ 0  2  4  6  8 10 12 14 16 18 20]\n"
     ]
    }
   ],
   "source": [
    "a=np.arange(0,21,2)\n",
    "print(a)"
   ]
  },
  {
   "cell_type": "code",
   "execution_count": 34,
   "id": "0faf5877-253f-400b-b676-f5a392eda863",
   "metadata": {},
   "outputs": [],
   "source": [
    "#•\tSlice the above array to get only even numbers."
   ]
  },
  {
   "cell_type": "code",
   "execution_count": 44,
   "id": "5db49702-ec35-4a50-b7ca-4ae57bdd0568",
   "metadata": {},
   "outputs": [
    {
     "name": "stdout",
     "output_type": "stream",
     "text": [
      "[ 0  2  4  6  8 10 12 14 16 18 20]\n"
     ]
    }
   ],
   "source": [
    "a=np.arange(0,21)\n",
    "print(a[::2])"
   ]
  },
  {
   "cell_type": "code",
   "execution_count": 46,
   "id": "cefe4dee-ea50-4adf-ace3-e0a227a130cd",
   "metadata": {},
   "outputs": [],
   "source": [
    "#•\tCreate a 3x3 matrix and extract the 2nd row and 3rd column."
   ]
  },
  {
   "cell_type": "code",
   "execution_count": 76,
   "id": "f70fbf57-8c27-4126-900c-a6a82eece164",
   "metadata": {},
   "outputs": [
    {
     "name": "stdout",
     "output_type": "stream",
     "text": [
      "(3, 3)\n",
      "2nd row: [6 5 4]\n",
      "3rd cols: [3 4 3]\n"
     ]
    }
   ],
   "source": [
    "c = np.array([\n",
    "    [1, 2, 3], \n",
    "    [6, 5, 4], \n",
    "    [1, 2, 3]\n",
    "])\n",
    "\n",
    "print(c.shape)\n",
    "\n",
    "print(\"2nd row:\", c[1, :])\n",
    "print(\"3rd cols:\", c[:,2])\n",
    "\n",
    "\n"
   ]
  },
  {
   "cell_type": "code",
   "execution_count": null,
   "id": "2a961bcb-13a8-4144-b48a-d3f5efca6637",
   "metadata": {},
   "outputs": [],
   "source": []
  }
 ],
 "metadata": {
  "kernelspec": {
   "display_name": "Python (tf_env)",
   "language": "python",
   "name": "tf_env"
  },
  "language_info": {
   "codemirror_mode": {
    "name": "ipython",
    "version": 3
   },
   "file_extension": ".py",
   "mimetype": "text/x-python",
   "name": "python",
   "nbconvert_exporter": "python",
   "pygments_lexer": "ipython3",
   "version": "3.10.18"
  }
 },
 "nbformat": 4,
 "nbformat_minor": 5
}
